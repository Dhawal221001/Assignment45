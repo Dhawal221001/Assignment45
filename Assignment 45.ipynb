{
 "cells": [
  {
   "cell_type": "markdown",
   "id": "2d8886ee-6047-4807-8791-f9856fc5b697",
   "metadata": {},
   "source": [
    "## Q1. What are the key features of the wine quality data set? Discuss the importance of each feature in predicting the quality of wine."
   ]
  },
  {
   "cell_type": "markdown",
   "id": "2ca970c6-d9e4-4bce-81a8-ace3e70793b9",
   "metadata": {},
   "source": [
    "### The key feature of the wine quality data set are alcohol and volatile acidity.\n",
    "### Increase in alcohol level, increases the quality of wine.\n",
    "### Increase in volatile acidity, decreases the quality of wine.\n",
    "### Good quality wine has higher level of sulphates and higher level of residual sugar on average."
   ]
  },
  {
   "cell_type": "markdown",
   "id": "8c97dc3a-ccbc-4eea-b4fa-d249a955c41e",
   "metadata": {},
   "source": [
    "## Q2. How did you handle missing data in the wine quality data set during the feature engineering process? Discuss the advantages and disadvantages of different imputation techniques."
   ]
  },
  {
   "cell_type": "markdown",
   "id": "143babe7-56f3-49af-99db-0849e5afff8e",
   "metadata": {},
   "source": [
    "### There are no missing data in wine quality dataset.\n",
    "### Different imputation techniques are:\n",
    "### 1. Mean imputation- If data is normally distributed\n",
    "### 2. Median imputation- If data is skewed\n",
    "### 3. Mode imputation- If data is categorical"
   ]
  },
  {
   "cell_type": "markdown",
   "id": "9d8b29e3-8dd8-4947-8474-4fb8083577b1",
   "metadata": {},
   "source": [
    "## Q3. What are the key factors that affect students' performance in exams? How would you go about analyzing these factors using statistical techniques?"
   ]
  },
  {
   "cell_type": "markdown",
   "id": "cd3b24dd-5d9a-4878-8318-6d8e9c6fdb4b",
   "metadata": {},
   "source": [
    "### Key factors that affect the student's performance are gender, parental_level_of_education, race, ethinicity, lunch, test_preparation_course. \n",
    "### We can analyze these factors using Correlation of them with exam_scores or covariance can be used."
   ]
  },
  {
   "cell_type": "markdown",
   "id": "032b7185-d22e-4d65-98f1-31a84e88df8d",
   "metadata": {},
   "source": [
    "## Q4. Describe the process of feature engineering in the context of the student performance data set. How did you select and transform the variables for your model? "
   ]
  },
  {
   "cell_type": "markdown",
   "id": "cb157c75-797e-4447-bec8-4ba5e0215f63",
   "metadata": {},
   "source": [
    "### We can use feature extraction technique to select the important features out of all. We also have to do data encoding to represent the categorical data as numerical data.\n",
    "### Like gender can take only two values so One Hot Encoding tecnique can be used in it, for parental_level_of_education Ordinal Encoding can be used. "
   ]
  },
  {
   "cell_type": "markdown",
   "id": "2f5e01cb-fab2-46df-b7dc-169abe361eff",
   "metadata": {},
   "source": [
    "## Q5. Load the wine quality data set and perform exploratory data analysis (EDA) to identify the distribution of each feature. Which feature(s) exhibit non-normality, and what transformations could be applied to these features to improve normality?"
   ]
  },
  {
   "cell_type": "code",
   "execution_count": 3,
   "id": "db2a1348-b008-41ee-aaed-170a08f65c04",
   "metadata": {},
   "outputs": [],
   "source": [
    "import pandas as pd\n",
    "df=pd.read_csv('winequality-red.csv')"
   ]
  },
  {
   "cell_type": "markdown",
   "id": "61f17bc6-e2ae-4478-bd90-cf37845f496b",
   "metadata": {},
   "source": [
    "### We can use quantile-quantile plot to check which feature is normal or not."
   ]
  },
  {
   "cell_type": "markdown",
   "id": "aff5901d-a7d0-4523-bfcd-ad21bb558f7e",
   "metadata": {},
   "source": [
    "### Alcohol exhibits non-normality feature and logarithmic transformation or square root transformation can be used to improve normality."
   ]
  },
  {
   "cell_type": "markdown",
   "id": "e4065973-e8d9-4bd0-b518-f574f4645571",
   "metadata": {},
   "source": [
    "## Q6. Using the wine quality data set, perform principal component analysis (PCA) to reduce the number of features. What is the minimum number of principal components required to explain 90% of the variance in the data?"
   ]
  }
 ],
 "metadata": {
  "kernelspec": {
   "display_name": "Python 3 (ipykernel)",
   "language": "python",
   "name": "python3"
  },
  "language_info": {
   "codemirror_mode": {
    "name": "ipython",
    "version": 3
   },
   "file_extension": ".py",
   "mimetype": "text/x-python",
   "name": "python",
   "nbconvert_exporter": "python",
   "pygments_lexer": "ipython3",
   "version": "3.10.8"
  }
 },
 "nbformat": 4,
 "nbformat_minor": 5
}
